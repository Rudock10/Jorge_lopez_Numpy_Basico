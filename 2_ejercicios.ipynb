{
 "cells": [
  {
   "cell_type": "markdown",
   "metadata": {},
   "source": [
    "# Numpy\n",
    "## Ejercicios prácticos\n",
    "\n",
    "---\n",
    "### Utiliza Python y Numpy para realizar las siguientes operaciones:\n",
    "1. Dado el arreglo `a = np.array([1, 2, 3, 4])`, determina si ninguno de los elementos es cero.\n",
    "2. Dado el arreglo `a = np.array([0, 0, 2, 0])`, determina si contiene algún elemento que no sea cero.\n",
    "3. Analiza el arreglo `a = np.array([1, 2, np.nan, np.inf])` y determina si contiene valores que sean infinitos o valores no numéricos (NaN).\n",
    "4. Dado el arreglo `a = np.array([1, 2, np.inf])`, determina si contiene valores infinitos.\n",
    "5. Dado el arreglo `a = np.array([1, np.nan, 3])`, determina si contiene valores NaN.\n",
    "6. Dados los arreglos `a = np.array([1, 3, 5])` y `b = np.array([2, 3, 4])`, realiza una comparación elemento a elemento contemplando mayor, mayor o igual, menor y menor o igual.\n",
    "7. Crea un arreglo que contenga los valores 1, 7, 13 y 105, y determina la cantidad de memoria que ocupa el arreglo.\n",
    "8. Crea un arreglo de 10 ceros; uno de 10 unos; y uno de 10 cincos.\n",
    "9. Crea un arreglo que contenga todos los números enteros entre 30 y 70.\n",
    "10. Crea un arreglo que contenga los números pares entre 30 y 70.\n",
    "11. Crea una matriz identidad de 3x3.\n",
    "12. Genera un número aleatorio entre 0 y 1.\n",
    "13. Crea un arreglo de 15 números aleatorios tomados de una distribución normal estándar.\n",
    "14. Crea un arreglo con valores entre 15 y 55, e imprime todos los valores excepto el primero y el último.\n",
    "15. Crea un vector (arreglo) de longitud 10 con valores equitativamente distribuidos entre 5 y 50.\n",
    "16. Crea un vector con valores de 0 a 20, y cambia el signo de los números de 9 a 15.\n",
    "17. Convierte el arreglo `a = np.array([1, 2, 3])` a una lista de Python.\n",
    "18. Convierte la lista `l = [1, 2, 3]` a un arreglo de Numpy.\n",
    "19. Dada la matriz `m = np.array([[1, 2], [3, 4]])`, verifica qué números son pares y almacena los resultados en otra matriz.\n",
    "20. Dado el arreglo `m = np.array([[1, 2, 3], [4, 5, 6]])`, encuentra el número de filas y columnas de la matriz."
   ]
  },
  {
   "cell_type": "code",
   "execution_count": 25,
   "metadata": {},
   "outputs": [],
   "source": [
    "import numpy as np"
   ]
  },
  {
   "cell_type": "code",
   "execution_count": 26,
   "metadata": {},
   "outputs": [
    {
     "name": "stdout",
     "output_type": "stream",
     "text": [
      "1: True\n"
     ]
    }
   ],
   "source": [
    "# ejercicio 1 \n",
    "a1 = np.array([1, 2, 3, 4])\n",
    "print(\"1:\", np.all(a1 != 0))\n"
   ]
  },
  {
   "cell_type": "code",
   "execution_count": 27,
   "metadata": {},
   "outputs": [
    {
     "name": "stdout",
     "output_type": "stream",
     "text": [
      "2: True\n"
     ]
    }
   ],
   "source": [
    "# ejercicio 2\n",
    "a2 = np.array([0, 0, 2, 0])\n",
    "print(\"2:\", np.any(a2 != 0))"
   ]
  },
  {
   "cell_type": "code",
   "execution_count": 28,
   "metadata": {},
   "outputs": [
    {
     "name": "stdout",
     "output_type": "stream",
     "text": [
      "3 - NaN: True\n"
     ]
    }
   ],
   "source": [
    "# ejercicio 3\n",
    "a3 = np.array([1, 2, np.nan, np.inf])\n",
    "print(\"3 - NaN:\", np.isnan(a3).any())\n"
   ]
  },
  {
   "cell_type": "code",
   "execution_count": 29,
   "metadata": {},
   "outputs": [
    {
     "name": "stdout",
     "output_type": "stream",
     "text": [
      "4: True\n"
     ]
    }
   ],
   "source": [
    "# ejercicio 4\n",
    "a4 = np.array([1, 2, np.inf])\n",
    "print(\"4:\", np.isinf(a4).any())\n"
   ]
  },
  {
   "cell_type": "code",
   "execution_count": 30,
   "metadata": {},
   "outputs": [
    {
     "name": "stdout",
     "output_type": "stream",
     "text": [
      "5: True\n"
     ]
    }
   ],
   "source": [
    "# ejercicio 5\n",
    "a5 = np.array([1, np.nan, 3])\n",
    "print(\"5:\", np.isnan(a5).any())\n",
    "\n"
   ]
  },
  {
   "cell_type": "code",
   "execution_count": 31,
   "metadata": {},
   "outputs": [
    {
     "name": "stdout",
     "output_type": "stream",
     "text": [
      "6 - Mayor: [False False  True]\n",
      "6 - Mayor o igual: [False  True  True]\n",
      "6 - Menor: [ True False False]\n",
      "6 - Menor o igual: [ True  True False]\n"
     ]
    }
   ],
   "source": [
    "# ejercicio 6\n",
    "a6 = np.array([1, 3, 5])\n",
    "b6 = np.array([2, 3, 4])\n",
    "print(\"6 - Mayor:\", a6 > b6)       \n",
    "print(\"6 - Mayor o igual:\", a6 >= b6) \n",
    "print(\"6 - Menor:\", a6 < b6)       \n",
    "print(\"6 - Menor o igual:\", a6 <= b6)\n"
   ]
  },
  {
   "cell_type": "code",
   "execution_count": 32,
   "metadata": {},
   "outputs": [
    {
     "name": "stdout",
     "output_type": "stream",
     "text": [
      "7: 32 bytes\n"
     ]
    }
   ],
   "source": [
    "# ejercicio 7\n",
    "a7 = np.array([1, 7, 13, 105])\n",
    "print(\"7:\", a7.nbytes, \"bytes\")\n"
   ]
  },
  {
   "cell_type": "code",
   "execution_count": 33,
   "metadata": {},
   "outputs": [
    {
     "name": "stdout",
     "output_type": "stream",
     "text": [
      "8 - Ceros: [0. 0. 0. 0. 0. 0. 0. 0. 0. 0.]\n",
      "8 - Unos: [1. 1. 1. 1. 1. 1. 1. 1. 1. 1.]\n",
      "8 - Cincos: [5 5 5 5 5 5 5 5 5 5]\n"
     ]
    }
   ],
   "source": [
    "# ejercicio 8\n",
    "zeros = np.zeros(10)\n",
    "ones = np.ones(10)\n",
    "fives = np.full(10, 5)\n",
    "print(\"8 - Ceros:\", zeros)\n",
    "print(\"8 - Unos:\", ones)\n",
    "print(\"8 - Cincos:\", fives)\n"
   ]
  },
  {
   "cell_type": "code",
   "execution_count": 34,
   "metadata": {},
   "outputs": [
    {
     "name": "stdout",
     "output_type": "stream",
     "text": [
      "9: [30 31 32 33 34 35 36 37 38 39 40 41 42 43 44 45 46 47 48 49 50 51 52 53\n",
      " 54 55 56 57 58 59 60 61 62 63 64 65 66 67 68 69 70]\n"
     ]
    }
   ],
   "source": [
    "# ejercicio 9\n",
    "a9 = np.arange(30, 71)\n",
    "print(\"9:\", a9)\n"
   ]
  },
  {
   "cell_type": "code",
   "execution_count": 35,
   "metadata": {},
   "outputs": [
    {
     "name": "stdout",
     "output_type": "stream",
     "text": [
      "10: [30 32 34 36 38 40 42 44 46 48 50 52 54 56 58 60 62 64 66 68 70]\n"
     ]
    }
   ],
   "source": [
    "# ejercicio 10\n",
    "a10 = np.arange(30, 71, 2)\n",
    "print(\"10:\", a10)\n",
    "\n"
   ]
  },
  {
   "cell_type": "code",
   "execution_count": 36,
   "metadata": {},
   "outputs": [
    {
     "name": "stdout",
     "output_type": "stream",
     "text": [
      "11:\n",
      " [[1. 0. 0.]\n",
      " [0. 1. 0.]\n",
      " [0. 0. 1.]]\n"
     ]
    }
   ],
   "source": [
    "# ejercicio 11\n",
    "identity = np.eye(3)\n",
    "print(\"11:\\n\", identity)\n",
    "\n"
   ]
  },
  {
   "cell_type": "code",
   "execution_count": 37,
   "metadata": {},
   "outputs": [
    {
     "name": "stdout",
     "output_type": "stream",
     "text": [
      "12: 0.31369797426335744\n"
     ]
    }
   ],
   "source": [
    "# ejercicio 12\n",
    "rand_num = np.random.rand()\n",
    "print(\"12:\", rand_num)\n"
   ]
  },
  {
   "cell_type": "code",
   "execution_count": 38,
   "metadata": {},
   "outputs": [
    {
     "name": "stdout",
     "output_type": "stream",
     "text": [
      "13: [ 0.24351883 -1.31048438 -0.36285632 -2.12565417 -1.20380345  1.90601292\n",
      " -0.50966258 -1.20577434  0.20611739  3.43856092 -0.74881187 -0.58086438\n",
      " -0.06716755  0.34437468 -1.32910329]\n"
     ]
    }
   ],
   "source": [
    "# ejercicio 13\n",
    "normal_array = np.random.randn(15)\n",
    "print(\"13:\", normal_array)\n",
    "\n"
   ]
  },
  {
   "cell_type": "code",
   "execution_count": 39,
   "metadata": {},
   "outputs": [
    {
     "name": "stdout",
     "output_type": "stream",
     "text": [
      "14: [16 17 18 19 20 21 22 23 24 25 26 27 28 29 30 31 32 33 34 35 36 37 38 39\n",
      " 40 41 42 43 44 45 46 47 48 49 50 51 52 53 54]\n"
     ]
    }
   ],
   "source": [
    "# ejercicio 14\n",
    "a14 = np.arange(15, 56)\n",
    "print(\"14:\", a14[1:-1])\n",
    "\n"
   ]
  },
  {
   "cell_type": "code",
   "execution_count": 40,
   "metadata": {},
   "outputs": [
    {
     "name": "stdout",
     "output_type": "stream",
     "text": [
      "15: [ 5. 10. 15. 20. 25. 30. 35. 40. 45. 50.]\n"
     ]
    }
   ],
   "source": [
    "# ejercicio 15\n",
    "a15 = np.linspace(5, 50, 10)\n",
    "print(\"15:\", a15)\n",
    "\n"
   ]
  },
  {
   "cell_type": "code",
   "execution_count": 41,
   "metadata": {},
   "outputs": [
    {
     "name": "stdout",
     "output_type": "stream",
     "text": [
      "16: [  0   1   2   3   4   5   6   7   8  -9 -10 -11 -12 -13 -14 -15  16  17\n",
      "  18  19  20]\n"
     ]
    }
   ],
   "source": [
    "# ejercicio 16\n",
    "a16 = np.arange(0, 21)\n",
    "a16[(a16 >= 9) & (a16 <= 15)] *= -1\n",
    "print(\"16:\", a16)\n"
   ]
  },
  {
   "cell_type": "code",
   "execution_count": 42,
   "metadata": {},
   "outputs": [
    {
     "name": "stdout",
     "output_type": "stream",
     "text": [
      "17: [1, 2, 3]\n"
     ]
    }
   ],
   "source": [
    "# ejercicio 17\n",
    "a17 = np.array([1, 2, 3])\n",
    "print(\"17:\", a17.tolist())\n"
   ]
  },
  {
   "cell_type": "code",
   "execution_count": 43,
   "metadata": {},
   "outputs": [
    {
     "name": "stdout",
     "output_type": "stream",
     "text": [
      "18: [1 2 3]\n"
     ]
    }
   ],
   "source": [
    "# ejercicio 18\n",
    "l18 = [1, 2, 3]\n",
    "a18 = np.array(l18)\n",
    "print(\"18:\", a18)\n",
    "\n"
   ]
  },
  {
   "cell_type": "code",
   "execution_count": 44,
   "metadata": {},
   "outputs": [
    {
     "name": "stdout",
     "output_type": "stream",
     "text": [
      "19:\n",
      " [[False  True]\n",
      " [False  True]]\n"
     ]
    }
   ],
   "source": [
    "# ejercicio 19\n",
    "m19 = np.array([[1, 2], [3, 4]])\n",
    "pares = m19 % 2 == 0\n",
    "print(\"19:\\n\", pares)\n",
    "\n"
   ]
  },
  {
   "cell_type": "code",
   "execution_count": 45,
   "metadata": {},
   "outputs": [
    {
     "name": "stdout",
     "output_type": "stream",
     "text": [
      "20 - Filas: 2\n",
      "20 - Columnas: 3\n"
     ]
    }
   ],
   "source": [
    "# ejercicio 20\n",
    "m20 = np.array([[1, 2, 3], [4, 5, 6]])\n",
    "filas, columnas = m20.shape\n",
    "print(\"20 - Filas:\", filas)\n",
    "print(\"20 - Columnas:\", columnas)\n",
    "\n",
    "\n"
   ]
  }
 ],
 "metadata": {
  "kernelspec": {
   "display_name": "Python 3",
   "language": "python",
   "name": "python3"
  },
  "language_info": {
   "codemirror_mode": {
    "name": "ipython",
    "version": 3
   },
   "file_extension": ".py",
   "mimetype": "text/x-python",
   "name": "python",
   "nbconvert_exporter": "python",
   "pygments_lexer": "ipython3",
   "version": "3.13.7"
  }
 },
 "nbformat": 4,
 "nbformat_minor": 4
}
