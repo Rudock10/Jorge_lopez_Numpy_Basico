{
 "cells": [
  {
   "cell_type": "code",
   "execution_count": 1,
   "id": "a2c08e45-4120-4af7-a845-00790210a5c7",
   "metadata": {},
   "outputs": [],
   "source": [
    "import numpy as np"
   ]
  },
  {
   "cell_type": "code",
   "execution_count": 2,
   "id": "5c5af05b-4932-4583-95ce-963dfd6b1344",
   "metadata": {},
   "outputs": [
    {
     "data": {
      "text/plain": [
       "numpy.ndarray"
      ]
     },
     "execution_count": 2,
     "metadata": {},
     "output_type": "execute_result"
    }
   ],
   "source": [
    "lista = [0,1,2,3,4]\n",
    "array_1d = np.array(lista)\n",
    "\n",
    "#Checamos el tipo de dato de array_id\n",
    "type(array_1d)"
   ]
  },
  {
   "cell_type": "code",
   "execution_count": 3,
   "id": "c1880a72-e8e8-45c3-8eac-7c6638157ef5",
   "metadata": {},
   "outputs": [
    {
     "data": {
      "text/plain": [
       "array([0, 1, 2, 3, 4])"
      ]
     },
     "execution_count": 3,
     "metadata": {},
     "output_type": "execute_result"
    }
   ],
   "source": [
    "#contenido del array\n",
    "array_1d"
   ]
  },
  {
   "cell_type": "code",
   "execution_count": 4,
   "id": "0eed81e8-63e3-45cd-bc7b-1bb236ce230d",
   "metadata": {},
   "outputs": [
    {
     "data": {
      "text/plain": [
       "array([2, 3, 4, 5, 6])"
      ]
     },
     "execution_count": 4,
     "metadata": {},
     "output_type": "execute_result"
    }
   ],
   "source": [
    "lista = [0,1,2,3,4]\n",
    "array_1d = np.array(lista)\n",
    "array_1d + 2"
   ]
  },
  {
   "cell_type": "code",
   "execution_count": 5,
   "id": "e9555be8-7bfa-48bf-8d7e-14d5935b0c7c",
   "metadata": {},
   "outputs": [
    {
     "name": "stdout",
     "output_type": "stream",
     "text": [
      "[[58, 64], [139, 154]]\n"
     ]
    }
   ],
   "source": [
    "def multiplicar_matrices(A, B):\n",
    "    # obtener dimensiones\n",
    "    filas_A = len(A)\n",
    "    cols_A = len(A[0])\n",
    "    filas_B = len(B)\n",
    "    cols_B = len(B[0])\n",
    "\n",
    "    # checar si se pueden multiplicar A y B\n",
    "    if cols_A != filas_B:\n",
    "        raise ValueError(\"El número de columnas de A debe ser igual al número de filas de B\")\n",
    "\n",
    "    # Inicializar una matriz vacía con ceros\n",
    "    matriz_resultado = []\n",
    "    for _ in range(filas_A):\n",
    "        fila = []\n",
    "        for _ in range(cols_B):\n",
    "            fila.append(0)\n",
    "        matriz_resultado.append(fila)\n",
    "\n",
    "    # realizar multiplicación\n",
    "    for i in range(filas_A):\n",
    "        for j in range(cols_B):\n",
    "            for k in range(cols_A):\n",
    "                matriz_resultado[i][j] += A[i][k] * B[k][j]\n",
    "\n",
    "    return matriz_resultado\n",
    "\n",
    "# Ejemplo\n",
    "A = [\n",
    "    [1, 2, 3],\n",
    "    [4, 5, 6]\n",
    "]\n",
    "B = [\n",
    "    [7, 8],\n",
    "    [9, 10],\n",
    "    [11, 12]\n",
    "]\n",
    "C = multiplicar_matrices(A, B)\n",
    "print(C)"
   ]
  },
  {
   "cell_type": "code",
   "execution_count": 6,
   "id": "0f2cce6a-2869-485c-8d34-6b393b204f23",
   "metadata": {},
   "outputs": [
    {
     "name": "stdout",
     "output_type": "stream",
     "text": [
      "[5, 4, 5, 6, 4]\n",
      "[4, 7, 1, 4, 5]\n",
      "[4, 6, 3, 6, 10]\n",
      "[4, 3, 5, 6, 2]\n",
      "[7, 3, 7, 10, 5]\n"
     ]
    }
   ],
   "source": [
    "import random\n",
    "\n",
    "def generar_matriz_aleatoria(N):\n",
    "    matriz = []\n",
    "    for i in range(N):\n",
    "        fila = []\n",
    "        for j in range(N):\n",
    "            fila.append(random.randint(1, 10))\n",
    "        matriz.append(fila)\n",
    "    return matriz\n",
    "\n",
    "# Ejemplo de uso\n",
    "N = 5\n",
    "matriz_aleatoria = generar_matriz_aleatoria(N)\n",
    "for fila in matriz_aleatoria:\n",
    "    print(fila)"
   ]
  },
  {
   "cell_type": "code",
   "execution_count": 7,
   "id": "90b0b4f4-97e9-47e8-a29f-38032bb153d9",
   "metadata": {},
   "outputs": [],
   "source": [
    "def imprimir_matriz(matriz):\n",
    "    for fila in matriz:\n",
    "        fila_formateada = ' '.join(f'{elemento:2}' for elemento in fila)\n",
    "        print(fila_formateada)"
   ]
  },
  {
   "cell_type": "code",
   "execution_count": 8,
   "id": "ceffc71a-9f80-4086-ba33-ba5ada1adf3e",
   "metadata": {},
   "outputs": [
    {
     "name": "stdout",
     "output_type": "stream",
     "text": [
      "Matríz de 5x5:\n",
      " 5  5  5  3  6\n",
      " 7  6  6  4  1\n",
      "10  2  8  7  2\n",
      " 9  1  7  9  5\n",
      " 3  7  3 10  7\n",
      "====================\n",
      "Matríz de 10x10:\n",
      " 1  6  5  1  3  5  2  7  4  7\n",
      " 5  8  7  3  3  1 10  1  3  9\n",
      " 1  7  4  9  2  8  8  9  1  1\n",
      "10  8  5  7  3  5 10  9  5 10\n",
      " 6  1  3  3  8  3  6  5 10  4\n",
      " 5  6  4  7  3  2  8 10  6  9\n",
      " 7  5  9  1  3  6  1  1  9  3\n",
      " 8  6  1  5  1  7  8  3 10  3\n",
      " 7  3  4  6 10  6  9 10  8  6\n",
      " 6  1  1 10  3  8  8 10  4  9\n",
      "====================\n",
      "Matríz de 20x20:\n",
      " 3  4  4  2  2  7  4  5  1  9  6  4  1  5  8  3  2  4  6  2\n",
      " 1  3  8  8  4 10  6 10  4  1  3  8  4  6  9  5  2  7 10  4\n",
      " 7  2  9  6  4  1  6  2  9  3  6  1  4  5  3  1  9  3  6  1\n",
      " 1  9  2  3  3  2  8  3  5  4  9  6  9  2  1  3  6  7  7  9\n",
      " 3  3  5  2  4  6  9 10  8  7  3  6  9  1  4  1  7 10  4  3\n",
      " 4  5  8 10  9  5  3  8  4  8  1  1  6  7  2  5  9  8  3 10\n",
      " 3  2  2  4  8  7  9  4 10  6  7  1  7  6  5  8 10  7  2  9\n",
      " 2  9  6  4  4 10  5  6  5  1  5  8  8  7  5  9  1  4  6  9\n",
      " 8  8 10  3  3  1  9  7  8  1  1  1  9  8  5  9  8  8 10 10\n",
      " 2  1  8  3  3  9  9 10  3  3  4  5 10  1  8  4  6  7  2  3\n",
      " 8  3 10  1  9  1  2  7  8  6  2  9  9  3  4  1  5  4  4  1\n",
      " 2  9  3  6  2  4  8  1  1  1  7  9  8  7  5  1  6 10  1  6\n",
      " 4  9  9  3  1  5  2  4  5  5  5  5  9 10  1  1  4  3  5  2\n",
      " 8  6  7 10  5  8  8  2  9  3 10  4  6  6 10  8  7  4  4  2\n",
      " 5 10  5  4  3  2  2  4  6  5  5  1  4  9  4  7  8  3  8 10\n",
      " 3  2  5  4  6  8  1  2  5  6  1  5  1  4  4  7  3  8  8  5\n",
      " 2  7  3  8  5  6  1  8  8 10  6  9  7  8  7 10  8  8  7  6\n",
      "10  8  3 10  1  9 10  4  7  5  8  5  5  1  3  7  8  2  3  5\n",
      " 5  1  4  1  7  9  6  3  2  6 10  2  7 10  3  4 10  1  9  2\n",
      " 2  2  6  8  8  4  6  9  8  4  4  8  9  9  1  5  5  7  2  2\n",
      "====================\n"
     ]
    }
   ],
   "source": [
    "print(\"Matríz de 5x5:\")\n",
    "m_5 = generar_matriz_aleatoria(5)\n",
    "imprimir_matriz(m_5)\n",
    "print(\"====================\")\n",
    "print(\"Matríz de 10x10:\")\n",
    "m_10 = generar_matriz_aleatoria(10)\n",
    "imprimir_matriz(m_10)\n",
    "print(\"====================\")\n",
    "print(\"Matríz de 20x20:\")\n",
    "m_20 = generar_matriz_aleatoria(20)\n",
    "imprimir_matriz(m_20)\n",
    "print(\"====================\")\n",
    "m_100 = generar_matriz_aleatoria(100)"
   ]
  },
  {
   "cell_type": "code",
   "execution_count": 9,
   "id": "56f6fda4-3d2f-41de-aa12-53d5c2c320f7",
   "metadata": {},
   "outputs": [],
   "source": [
    "import time"
   ]
  },
  {
   "cell_type": "code",
   "execution_count": 10,
   "id": "4cb869d2-1a0a-4b11-8283-b68997a8106f",
   "metadata": {},
   "outputs": [
    {
     "name": "stdout",
     "output_type": "stream",
     "text": [
      "La ejecución tardó 0.00012 seg.\n"
     ]
    }
   ],
   "source": [
    "start = time.time()\n",
    "# ejecutar código\n",
    "end = time.time()\n",
    "tiempo = round(end - start, 5)\n",
    "print(f\"La ejecución tardó {tiempo} seg.\")"
   ]
  },
  {
   "cell_type": "code",
   "execution_count": 11,
   "id": "f647d38f-a8f4-41cb-83b2-c4f0fc4a08ea",
   "metadata": {},
   "outputs": [
    {
     "name": "stdout",
     "output_type": "stream",
     "text": [
      "Multiplicar dos matrices de 5x5 tardó 0.00024509429931640625 seg.\n"
     ]
    }
   ],
   "source": [
    "start = time.time()\n",
    "multiplicar_matrices(m_5, m_5)\n",
    "end = time.time()\n",
    "tiempo = end - start\n",
    "print(f\"Multiplicar dos matrices de 5x5 tardó {tiempo} seg.\")"
   ]
  },
  {
   "cell_type": "code",
   "execution_count": 12,
   "id": "fa407a37-5ae4-463c-8335-e99bac704b64",
   "metadata": {},
   "outputs": [
    {
     "name": "stdout",
     "output_type": "stream",
     "text": [
      "Multiplicar dos matrices de 1000x1000 tardó 0.4214053153991699 seg.\n"
     ]
    }
   ],
   "source": [
    "start = time.time()\n",
    "multiplicar_matrices(m_100, m_100)\n",
    "end = time.time()\n",
    "tiempo = end - start\n",
    "print(f\"Multiplicar dos matrices de 1000x1000 tardó {tiempo} seg.\")"
   ]
  },
  {
   "cell_type": "code",
   "execution_count": 13,
   "id": "82b986ad-e27a-4a89-9468-35c35bef0678",
   "metadata": {},
   "outputs": [
    {
     "name": "stdout",
     "output_type": "stream",
     "text": [
      "Matríz de 5x5:\n",
      " 1  3  6  3  7\n",
      " 1  2 10  1  7\n",
      " 2 10  3  8  9\n",
      " 4  2  2  3  7\n",
      " 6 10  8  5  5\n",
      "====================\n",
      "Matríz de 10x10:\n",
      " 8  1  8  9  7  6  4  7  9 10\n",
      " 4  1  7  1 10 10  6  9  1  2\n",
      " 3  9  2  8  3  5  6 10  5  5\n",
      " 1  7  6  4  1  9  3  5  4  5\n",
      " 1  6  6  7  6  1  6  2  7  2\n",
      " 8  4  1  3  6  4  2  3  9  8\n",
      "10  5  6  7  9  1  8  8  2  8\n",
      " 1  6 10  8  3  3 10 10  1  3\n",
      " 5  9  7  5  2  7  6 10  2  4\n",
      " 9  2  6  9  9  6  6  7  1  6\n",
      "====================\n",
      "Matríz de 20x20:\n",
      " 6 10  9  1  8  9  9  8  8  7  8  8  9  6  3  5  8  5  8  2\n",
      " 5  5  3  9  2  2  8  1  3  5  8  2  3  2  2  7  2  2  2 10\n",
      " 5  6  9  7 10  2  9  1  9  5  2  1  3  9  3  8  9 10  1  2\n",
      "10  2  7 10  6  7 10  9 10  1 10  3  4  9  7  1  2  4 10 10\n",
      " 3  5  6  4  3  8  7  2  1  2 10  5  2  2  4  9  6  4  3  5\n",
      " 2  6  3  9  8  1  6 10 10  1  1  2  7  9  1  4  5 10  3  8\n",
      " 9 10 10 10 10  6  3  6  2  5  8  7 10  3 10  9  1  9  2  4\n",
      " 3  5  6  2  6  5  6  9  6  5  6  6  8  2  8  1  1  2  4  4\n",
      " 3  4  7  2  2  1  5  9  1  6  2  9 10  3  5  3 10  7  3  7\n",
      " 3  3  2  3  9  5  4  8  4  4  4  6 10  2  3  7 10  2  8  7\n",
      " 2  3 10  4  7  7  2  7 10  1  2 10  3  1  7  2  7  8  1 10\n",
      " 6  8  2  8  2  7  9  2  9  8  7  1  8  9 10  9  2 10  6  3\n",
      "10  9  6  7  6  1  4  4  3  3 10  2  7 10  6  9  2  9  7 10\n",
      " 9 10  2  1  3  8  9  5  2  5  1  6  2  7  1 10  4  7  1  5\n",
      " 4  1  4  9  9  4  8  5  7  8  5  3  1  4  7  9 10  9  9  7\n",
      " 5  6  2  1  2  7  6  5  7  4  1  5  8  9  1  2  1  5  8  2\n",
      " 5  5  5  8  1  8  7  1  2  7  3  7  4  2  2  5  2  6  1  7\n",
      "10  4  2  3  4  1  7  2  7 10  6  2  4  9  3  1 10  5  3  1\n",
      " 4 10  8  9  1  3  2  4  5  8  3  5  6  6  5  2  1  1  3  6\n",
      " 7  4  6 10  9  3  7 10  4  1  1  2  5  4  4  5  8  2  8  1\n",
      "====================\n"
     ]
    }
   ],
   "source": [
    "print(\"Matríz de 5x5:\")\n",
    "m_5 = generar_matriz_aleatoria(5)\n",
    "imprimir_matriz(m_5)\n",
    "print(\"====================\")\n",
    "print(\"Matríz de 10x10:\")\n",
    "m_10 = generar_matriz_aleatoria(10)\n",
    "imprimir_matriz(m_10)\n",
    "print(\"====================\")\n",
    "print(\"Matríz de 20x20:\")\n",
    "m_20 = generar_matriz_aleatoria(20)\n",
    "imprimir_matriz(m_20)\n",
    "print(\"====================\")\n",
    "m_100 = generar_matriz_aleatoria(100)"
   ]
  },
  {
   "cell_type": "code",
   "execution_count": 14,
   "id": "1feaad68-e2d9-4953-9768-45d1eaea0bbf",
   "metadata": {},
   "outputs": [
    {
     "name": "stdout",
     "output_type": "stream",
     "text": [
      "====================\n"
     ]
    }
   ],
   "source": [
    "print(\"====================\")\n",
    "m_100 = generar_matriz_aleatoria(100)"
   ]
  },
  {
   "cell_type": "code",
   "execution_count": 15,
   "id": "25f2940a-a1a6-42e1-af9a-ef3f8552a52d",
   "metadata": {},
   "outputs": [],
   "source": [
    "def generar_matriz_aleatoria_numpy(N):\n",
    "    return np.random.randint(1, 10, size=(N, N))"
   ]
  },
  {
   "cell_type": "code",
   "execution_count": 16,
   "id": "63b234da-1267-488e-b4fb-a5169c46eb9a",
   "metadata": {},
   "outputs": [],
   "source": [
    "m_1000 = generar_matriz_aleatoria_numpy(1000)"
   ]
  },
  {
   "cell_type": "code",
   "execution_count": 17,
   "id": "be85fc98-846c-4d4c-be53-6b3fcb8ecc10",
   "metadata": {},
   "outputs": [
    {
     "name": "stdout",
     "output_type": "stream",
     "text": [
      "Multiplicar dos matrices de 1000x1000 con Numpy tardó 2.834904193878174 seg.\n"
     ]
    }
   ],
   "source": [
    "start = time.time()\n",
    "np.dot(m_1000, m_1000)\n",
    "# o bien, m_1000 @ m_1000\n",
    "end = time.time()\n",
    "tiempo = end - start\n",
    "print(f\"Multiplicar dos matrices de 1000x1000 con Numpy tardó {tiempo} seg.\")"
   ]
  },
  {
   "cell_type": "code",
   "execution_count": 18,
   "id": "23227583-1b30-463c-8077-213364778d84",
   "metadata": {},
   "outputs": [
    {
     "data": {
      "text/plain": [
       "array([[0, 1, 2],\n",
       "       [3, 4, 5],\n",
       "       [6, 7, 8]])"
      ]
     },
     "execution_count": 18,
     "metadata": {},
     "output_type": "execute_result"
    }
   ],
   "source": [
    "list2 = [[0,1,2], [3,4,5], [6,7,8]]\n",
    "arr2d = np.array(list2)\n",
    "arr2d"
   ]
  },
  {
   "cell_type": "code",
   "execution_count": null,
   "id": "0bcddbc2-fb40-44e5-af85-59a1b4a20481",
   "metadata": {},
   "outputs": [],
   "source": []
  },
  {
   "cell_type": "code",
   "execution_count": null,
   "id": "93604e10-1e15-46d7-a0a9-d1e6cc38af67",
   "metadata": {},
   "outputs": [],
   "source": []
  }
 ],
 "metadata": {
  "kernelspec": {
   "display_name": "Python 3",
   "language": "python",
   "name": "python3"
  },
  "language_info": {
   "codemirror_mode": {
    "name": "ipython",
    "version": 3
   },
   "file_extension": ".py",
   "mimetype": "text/x-python",
   "name": "python",
   "nbconvert_exporter": "python",
   "pygments_lexer": "ipython3",
   "version": "3.13.7"
  }
 },
 "nbformat": 4,
 "nbformat_minor": 5
}
